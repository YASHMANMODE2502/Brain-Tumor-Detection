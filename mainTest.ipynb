{
  "nbformat": 4,
  "nbformat_minor": 0,
  "metadata": {
    "colab": {
      "name": "mainTest.ipynb",
      "provenance": []
    },
    "kernelspec": {
      "name": "python3",
      "display_name": "Python 3"
    },
    "language_info": {
      "name": "python"
    }
  },
  "cells": [
    {
      "cell_type": "code",
      "execution_count": 1,
      "metadata": {
        "id": "X9BCNF5CKaOq"
      },
      "outputs": [],
      "source": [
        "import cv2\n",
        "from keras.models import load_model\n",
        "from PIL import Image\n",
        "import numpy as np"
      ]
    },
    {
      "cell_type": "code",
      "source": [
        "model = load_model('BrainTumorModel.h5')\n",
        "image = cv2.imread('/content/pred/pred35.jpg')"
      ],
      "metadata": {
        "id": "S6xLDK-WKll7"
      },
      "execution_count": 11,
      "outputs": []
    },
    {
      "cell_type": "code",
      "source": [
        "img = Image.fromarray(image)\n",
        "img = img.resize((64, 64))\n",
        "img = np.array(img)"
      ],
      "metadata": {
        "id": "2dgijI0GLD-u"
      },
      "execution_count": 12,
      "outputs": []
    },
    {
      "cell_type": "code",
      "source": [
        "input_img = np.expand_dims(img, axis=0)\n",
        "prediction = model.predict(input_img)\n",
        "results = np.argmax(prediction, axis=1)"
      ],
      "metadata": {
        "id": "JEcsCq3SLJ5G"
      },
      "execution_count": 13,
      "outputs": []
    },
    {
      "cell_type": "code",
      "source": [
        "print(results)"
      ],
      "metadata": {
        "colab": {
          "base_uri": "https://localhost:8080/"
        },
        "id": "Jn_QiF9wLLjV",
        "outputId": "e8bc1491-f74b-42ef-904e-50ec7c259aeb"
      },
      "execution_count": 14,
      "outputs": [
        {
          "output_type": "stream",
          "name": "stdout",
          "text": [
            "[0]\n"
          ]
        }
      ]
    }
  ]
}