{
  "nbformat": 4,
  "nbformat_minor": 0,
  "metadata": {
    "colab": {
      "name": "mainTrain.ipynb",
      "provenance": []
    },
    "kernelspec": {
      "name": "python3",
      "display_name": "Python 3"
    },
    "language_info": {
      "name": "python"
    }
  },
  "cells": [
    {
      "cell_type": "code",
      "execution_count": 47,
      "metadata": {
        "id": "DGaU7OS6bzWK"
      },
      "outputs": [],
      "source": [
        "# import modules \n",
        "import cv2\n",
        "import os\n",
        "from PIL import Image\n",
        "import numpy as np\n",
        "import tensorflow as tf\n",
        "from tensorflow import keras\n",
        "from sklearn.model_selection import train_test_split\n",
        "from keras.utils.np_utils import normalize\n",
        "from keras.models import Sequential\n",
        "from keras.layers import Conv2D, MaxPooling2D\n",
        "from keras.layers import Activation, Dropout, Flatten, Dense\n",
        "from keras.utils.np_utils import to_categorical"
      ]
    },
    {
      "cell_type": "code",
      "source": [
        "# Initialising the directory\n",
        "image_directory = '/content/Datasets/'\n",
        "no_tumor = os.listdir(image_directory+'/no/')\n",
        "yes_tumor = os.listdir(image_directory+'/yes/')\n",
        "dataset=[]\n",
        "label=[]\n",
        "Input_size = 64"
      ],
      "metadata": {
        "id": "IE9E29mHcCWT"
      },
      "execution_count": 48,
      "outputs": []
    },
    {
      "cell_type": "code",
      "source": [
        "for i, image_name in enumerate(no_tumor):\n",
        "  if(image_name.split('.')[1] == 'jpg'):\n",
        "    images = cv2.imread(image_directory+'/no/'+image_name)\n",
        "    images = Image.fromarray(images, mode='RGB')\n",
        "    images = images.resize((Input_size,Input_size))\n",
        "    dataset.append(np.array(images))\n",
        "    label.append(0)\n",
        "\n",
        "for i, image_name in enumerate(yes_tumor):\n",
        "  if(image_name.split('.')[1] == 'jpg'):\n",
        "    images = cv2.imread(image_directory+'/yes/'+image_name)\n",
        "    images = Image.fromarray(images, mode='RGB')\n",
        "    images = images.resize((Input_size,Input_size))\n",
        "    dataset.append(np.array(images))\n",
        "    label.append(1)\n",
        "\n",
        "dataset = np.array(dataset)\n",
        "label = np.array(label)"
      ],
      "metadata": {
        "id": "1LmEbMQ0pcEF"
      },
      "execution_count": 49,
      "outputs": []
    },
    {
      "cell_type": "code",
      "source": [
        "x_train, x_test, y_train, y_test = train_test_split(dataset, label, test_size=0.2, random_state=0)"
      ],
      "metadata": {
        "id": "QR2esRwlpnk3"
      },
      "execution_count": 50,
      "outputs": []
    },
    {
      "cell_type": "code",
      "source": [
        "x_train = normalize(x_train, axis=1)\n",
        "x_teat = normalize(x_test, axis=1)"
      ],
      "metadata": {
        "id": "7On6Bfe4pqum"
      },
      "execution_count": 51,
      "outputs": []
    },
    {
      "cell_type": "code",
      "source": [
        "y_train = to_categorical(y_train, num_classes=2)\n",
        "y_test = to_categorical(y_test, num_classes=2)"
      ],
      "metadata": {
        "id": "fnB1_snJpuDF"
      },
      "execution_count": 52,
      "outputs": []
    },
    {
      "cell_type": "markdown",
      "source": [
        "# ***Model Building***"
      ],
      "metadata": {
        "id": "LAZ_f9iipxFK"
      }
    },
    {
      "cell_type": "code",
      "source": [
        "model = Sequential()\n",
        "\n",
        "# we are building 3 by 64 layer\n",
        "#layer1\n",
        "model.add(Conv2D(64, (5,5), input_shape=(Input_size, Input_size, 3)))\n",
        "model.add(Activation('relu'))\n",
        "model.add(MaxPooling2D(pool_size=(2, 2)))\n",
        "\n",
        "#layer2\n",
        "model.add(Conv2D(64, (5,5), kernel_initializer='he_uniform'))\n",
        "model.add(Activation('relu'))\n",
        "model.add(MaxPooling2D(pool_size=(2, 2)))\n",
        "\n",
        "#layer3\n",
        "model.add(Conv2D(64, (5,5), kernel_initializer='he_uniform'))\n",
        "model.add(Activation('relu'))\n",
        "model.add(MaxPooling2D(pool_size=(2, 2)))\n",
        "\n",
        "model.add(Flatten())\n",
        "model.add(Dense(64))\n",
        "\n",
        "model.add(Activation('relu'))\n",
        "model.add(Dropout(0.5))\n",
        "\n",
        "model.add(Dense(2))\n",
        "model.add(Activation('softmax'))"
      ],
      "metadata": {
        "id": "2oKE2yNJp3Ub"
      },
      "execution_count": 62,
      "outputs": []
    },
    {
      "cell_type": "code",
      "source": [
        "model.compile(loss='categorical_crossentropy', optimizer='adam', metrics=['accuracy'])\n",
        "model.fit(x_train, y_train, batch_size=16, verbose=1, epochs=20, validation_data=(x_test, y_test), shuffle=False)"
      ],
      "metadata": {
        "id": "7TNXRnguqKST",
        "colab": {
          "base_uri": "https://localhost:8080/"
        },
        "outputId": "35cf606b-1e84-4bea-f1f2-7aab982ffb69"
      },
      "execution_count": 66,
      "outputs": [
        {
          "output_type": "stream",
          "name": "stdout",
          "text": [
            "Epoch 1/20\n",
            "150/150 [==============================] - 43s 284ms/step - loss: 0.0303 - accuracy: 0.9900 - val_loss: 310.2601 - val_accuracy: 0.8867\n",
            "Epoch 2/20\n",
            "150/150 [==============================] - 42s 283ms/step - loss: 0.0402 - accuracy: 0.9883 - val_loss: 154.8981 - val_accuracy: 0.9333\n",
            "Epoch 3/20\n",
            "150/150 [==============================] - 42s 283ms/step - loss: 0.0154 - accuracy: 0.9958 - val_loss: 189.1962 - val_accuracy: 0.9100\n",
            "Epoch 4/20\n",
            "150/150 [==============================] - 42s 282ms/step - loss: 0.0071 - accuracy: 0.9983 - val_loss: 233.5622 - val_accuracy: 0.9067\n",
            "Epoch 5/20\n",
            "150/150 [==============================] - 42s 283ms/step - loss: 0.0057 - accuracy: 0.9987 - val_loss: 298.4824 - val_accuracy: 0.9300\n",
            "Epoch 6/20\n",
            "150/150 [==============================] - 43s 284ms/step - loss: 0.0114 - accuracy: 0.9950 - val_loss: 208.6880 - val_accuracy: 0.9267\n",
            "Epoch 7/20\n",
            "150/150 [==============================] - 43s 284ms/step - loss: 0.0140 - accuracy: 0.9958 - val_loss: 224.2277 - val_accuracy: 0.9367\n",
            "Epoch 8/20\n",
            "150/150 [==============================] - 43s 285ms/step - loss: 0.0145 - accuracy: 0.9954 - val_loss: 275.2318 - val_accuracy: 0.9283\n",
            "Epoch 9/20\n",
            "150/150 [==============================] - 42s 282ms/step - loss: 0.0079 - accuracy: 0.9983 - val_loss: 208.3216 - val_accuracy: 0.9350\n",
            "Epoch 10/20\n",
            "150/150 [==============================] - 42s 282ms/step - loss: 0.0445 - accuracy: 0.9854 - val_loss: 281.1338 - val_accuracy: 0.9150\n",
            "Epoch 11/20\n",
            "150/150 [==============================] - 43s 283ms/step - loss: 0.0352 - accuracy: 0.9908 - val_loss: 180.4809 - val_accuracy: 0.9117\n",
            "Epoch 12/20\n",
            "150/150 [==============================] - 43s 284ms/step - loss: 0.0144 - accuracy: 0.9950 - val_loss: 206.0051 - val_accuracy: 0.9483\n",
            "Epoch 13/20\n",
            "150/150 [==============================] - 43s 284ms/step - loss: 0.0051 - accuracy: 0.9983 - val_loss: 230.6404 - val_accuracy: 0.9367\n",
            "Epoch 14/20\n",
            "150/150 [==============================] - 43s 283ms/step - loss: 0.0020 - accuracy: 0.9987 - val_loss: 232.8366 - val_accuracy: 0.9433\n",
            "Epoch 15/20\n",
            "150/150 [==============================] - 43s 283ms/step - loss: 6.4098e-04 - accuracy: 1.0000 - val_loss: 237.6943 - val_accuracy: 0.9450\n",
            "Epoch 16/20\n",
            "150/150 [==============================] - 43s 284ms/step - loss: 3.1525e-04 - accuracy: 1.0000 - val_loss: 293.9730 - val_accuracy: 0.9450\n",
            "Epoch 17/20\n",
            "150/150 [==============================] - 43s 286ms/step - loss: 1.2297e-04 - accuracy: 1.0000 - val_loss: 275.7747 - val_accuracy: 0.9500\n",
            "Epoch 18/20\n",
            "150/150 [==============================] - 43s 285ms/step - loss: 0.0379 - accuracy: 0.9858 - val_loss: 135.1470 - val_accuracy: 0.9533\n",
            "Epoch 19/20\n",
            "150/150 [==============================] - 43s 284ms/step - loss: 0.0197 - accuracy: 0.9933 - val_loss: 207.0902 - val_accuracy: 0.9350\n",
            "Epoch 20/20\n",
            "150/150 [==============================] - 43s 286ms/step - loss: 0.0159 - accuracy: 0.9946 - val_loss: 217.1181 - val_accuracy: 0.9417\n"
          ]
        },
        {
          "output_type": "execute_result",
          "data": {
            "text/plain": [
              "<keras.callbacks.History at 0x7ff2d14c7bd0>"
            ]
          },
          "metadata": {},
          "execution_count": 66
        }
      ]
    },
    {
      "cell_type": "code",
      "source": [
        "loss, accuracy = model.evaluate(x_test, y_test, verbose=1)\n",
        "loss_v, accuracy_v = model.evaluate(x_test, y_test, verbose=1)\n",
        "print(\"Validation: accuracy = %f  ;  loss_v = %f\" % (accuracy_v*100, loss_v))\n",
        "print(\"Test: accuracy = %f  ;  loss = %f\" % (accuracy*100, loss))"
      ],
      "metadata": {
        "colab": {
          "base_uri": "https://localhost:8080/"
        },
        "id": "7FLZpJDiAfZj",
        "outputId": "6c4bce39-31d6-465e-8d55-3eee1c781113"
      },
      "execution_count": 67,
      "outputs": [
        {
          "output_type": "stream",
          "name": "stdout",
          "text": [
            "19/19 [==============================] - 3s 133ms/step - loss: 217.1181 - accuracy: 0.9417\n",
            "19/19 [==============================] - 3s 132ms/step - loss: 217.1181 - accuracy: 0.9417\n",
            "Validation: accuracy = 94.166666  ;  loss_v = 217.118134\n",
            "Test: accuracy = 94.166666  ;  loss = 217.118134\n"
          ]
        }
      ]
    },
    {
      "cell_type": "code",
      "source": [
        "model.save('BrainTumorModel.h5')"
      ],
      "metadata": {
        "id": "7-jb277y23uw"
      },
      "execution_count": 68,
      "outputs": []
    }
  ]
}